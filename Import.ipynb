{
  "nbformat": 4,
  "nbformat_minor": 0,
  "metadata": {
    "colab": {
      "provenance": []
    },
    "kernelspec": {
      "name": "python3",
      "display_name": "Python 3"
    },
    "language_info": {
      "name": "python"
    }
  },
  "cells": [
    {
      "cell_type": "code",
      "execution_count": null,
      "metadata": {
        "id": "BbhxBC4KrqfY"
      },
      "outputs": [],
      "source": [
        "from google.colab import drive\n",
        "drive.mount('/content/drive')\n",
        "!pip install segmentation_models\n",
        "!pip install metrics\n",
        "!pip install utils"
      ]
    },
    {
      "cell_type": "code",
      "source": [
        "import os\n",
        "import sys\n",
        "import random\n",
        "import warnings\n",
        "import numpy as np\n",
        "import pandas as pd\n",
        "import matplotlib\n",
        "import re\n",
        "matplotlib.use('agg')\n",
        "import matplotlib.pyplot as plt\n",
        "import datetime\n",
        "from tqdm import tqdm\n",
        "from glob import glob\n",
        "from itertools import chain\n",
        "from tensorflow import keras\n",
        "##\n",
        "import pickle\n",
        "from typing import Any, List, Tuple, Union\n",
        "import warnings\n",
        "import time\n",
        "##\n",
        "import tensorflow as tf\n",
        "from tensorflow.keras.layers import *\n",
        "from tensorflow.keras.models import Model\n",
        "from skimage.io import imread, imshow, imread_collection, concatenate_images\n",
        "from skimage.transform import resize\n",
        "from skimage.morphology import label\n",
        "from keras.models import Model, load_model\n",
        "from keras.layers import Input\n",
        "from keras.layers.core import Dropout, Lambda\n",
        "from keras.layers.convolutional import Conv2D, Conv2DTranspose\n",
        "from keras.layers.pooling import MaxPooling2D\n",
        "from keras.layers.merge import concatenate\n",
        "from keras.callbacks import EarlyStopping, ModelCheckpoint\n",
        "from keras import backend as K\n",
        "from tensorflow.keras.preprocessing.image import ImageDataGenerator\n",
        "import cv2\n",
        "from PIL import Image\n",
        "import segmentation_models as sm\n",
        "from tensorflow.keras.metrics import MeanIoU\n",
        "import random\n",
        "from tensorflow.keras.preprocessing.image import load_img\n",
        "import tqdm\n",
        "import sys\n",
        "from IPython.lib import deepreload\n",
        "import PIL\n",
        "from PIL import ImageOps\n",
        "from tensorflow.keras.callbacks import LearningRateScheduler\n",
        "from tensorflow.keras.callbacks import EarlyStopping, ModelCheckpoint, ReduceLROnPlateau, CSVLogger, TensorBoard\n",
        "from albumentations import CenterCrop, RandomRotate90, GridDistortion, HorizontalFlip, VerticalFlip\n",
        "import numpy as np\n",
        "from PIL import Image as im\n",
        "\n",
        "%matplotlib inline\n",
        "tf.random.set_seed(42)\n",
        "stdout = sys.stdout\n",
        "sys.stdout = open('junk', 'w')\n",
        "deepreload.reload(tqdm)\n",
        "sys.stdout = stdout\n",
        "sm.set_framework('tf.keras')\n",
        "sm.framework()\n",
        "\n",
        "BACKBONE = 'resnet34'\n",
        "preprocess_input = sm.get_preprocessing(BACKBONE)"
      ],
      "metadata": {
        "id": "K491pFswrunQ"
      },
      "execution_count": null,
      "outputs": []
    }
  ]
}