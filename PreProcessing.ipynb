{
  "nbformat": 4,
  "nbformat_minor": 0,
  "metadata": {
    "colab": {
      "provenance": []
    },
    "kernelspec": {
      "name": "python3",
      "display_name": "Python 3"
    },
    "language_info": {
      "name": "python"
    }
  },
  "cells": [
    {
      "cell_type": "code",
      "execution_count": null,
      "metadata": {
        "id": "BbhxBC4KrqfY"
      },
      "outputs": [],
      "source": [
        "batch_size = 16\n",
        "\n",
        "def load_data(path):\n",
        "    images = sorted(glob(os.path.join(path, \"images/*\")))\n",
        "    masks = sorted(glob(os.path.join(path, \"masks/*\")))\n",
        "    if len(images) != len(masks):\n",
        "      images.pop()\n",
        "\n",
        "    return images, masks\n",
        "\n",
        "def read_image(path):\n",
        "    path = path.decode()\n",
        "    x = cv2.imread(path, cv2.IMREAD_COLOR)\n",
        "    x = x/255.0\n",
        "    return x\n",
        "\n",
        "def read_mask(path):\n",
        "    path = path.decode()\n",
        "    y = cv2.imread(path, cv2.IMREAD_COLOR)\n",
        "    y = y/255.0\n",
        "    #x = np.expand_dims(x, axis=-1)\n",
        "    return y\n",
        "\n",
        "def tf_parse(x, y):\n",
        "    def _parse(x, y):\n",
        "        x = read_image(x)\n",
        "        y = read_mask(y)\n",
        "        return x, y\n",
        "\n",
        "    x, y = tf.numpy_function(_parse, [x, y], [tf.float64, tf.float64])\n",
        "    return x, y\n",
        "\n",
        "def tf_dataset(x, y, batch=batch_size):\n",
        "    dataset = tf.data.Dataset.from_tensor_slices((x, y))\n",
        "    dataset = dataset.map(tf_parse)\n",
        "    dataset = dataset.batch(batch)\n",
        "    dataset = dataset.repeat()\n",
        "    return dataset\n",
        "\n"
      ]
    }
  ]
}