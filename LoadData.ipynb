{
  "nbformat": 4,
  "nbformat_minor": 0,
  "metadata": {
    "colab": {
      "provenance": []
    },
    "kernelspec": {
      "name": "python3",
      "display_name": "Python 3"
    },
    "language_info": {
      "name": "python"
    }
  },
  "cells": [
    {
      "cell_type": "code",
      "execution_count": null,
      "metadata": {
        "id": "BbhxBC4KrqfY"
      },
      "outputs": [],
      "source": [
        "path = \"/content/drive/MyDrive/Train_Data/\"\n",
        "images, masks = load_data(path)\n",
        "print(f\"Original Images: {len(images)} - Original Masks: {len(masks)}\")\n",
        "\n",
        "\n",
        "augment_data(images, masks, \"/content/augmented_data\", augment=False)\n",
        "images, masks = load_data(\"/content/augmented_data/\")\n",
        "print(f\"Augmented Images: {len(images)} - Augmented Masks: {len(masks)}\")"
      ]
    },
    {
      "cell_type": "code",
      "source": [
        "val_images, val_masks = load_data('/content/drive/MyDrive/validation/')\n",
        "print(f\"Original Validation Images: {len(val_images)} - Original Validation Masks: {len(val_masks)}\")\n",
        "\n",
        "augment_data(val_images, val_masks, \"/content/val_aug_data\", augment=False)\n",
        "val_images, val_masks = load_data(\"/content/val_aug_data\")\n",
        "print(f\"Augmented Images: {len(val_images)} - Augmented Masks: {len(val_masks)}\")"
      ],
      "metadata": {
        "id": "HZmnoU-gstrr"
      },
      "execution_count": null,
      "outputs": []
    }
  ]
}