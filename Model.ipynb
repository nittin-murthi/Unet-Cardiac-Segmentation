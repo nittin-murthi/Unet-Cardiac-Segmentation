{
  "nbformat": 4,
  "nbformat_minor": 0,
  "metadata": {
    "colab": {
      "provenance": []
    },
    "kernelspec": {
      "name": "python3",
      "display_name": "Python 3"
    },
    "language_info": {
      "name": "python"
    }
  },
  "cells": [
    {
      "cell_type": "code",
      "execution_count": null,
      "metadata": {
        "id": "BbhxBC4KrqfY"
      },
      "outputs": [],
      "source": [
        "num_train_imgs = 810\n",
        "num_val_images = 200\n",
        "steps_per_epoch = num_train_imgs//batch_size\n",
        "val_steps_per_epoch = num_val_images//batch_size\n",
        "\n",
        "BACKBONE = 'resnet34'\n",
        "preprocess_input = sm.get_preprocessing(BACKBONE)\n",
        "\n",
        "IMG_HEIGHT = 512\n",
        "IMG_WIDTH  = 512\n",
        "IMG_CHANNELS = 3\n",
        "\n",
        "batch = 16\n",
        "epochs = 1200\n",
        "n_classes=2\n",
        "\n",
        "epochs = 1200\n",
        "\n",
        "(train_x, train_y) = load_data('/content/drive/MyDrive/Train_Data')\n",
        "(valid_x, valid_y) = load_data('/content/drive/MyDrive/validation')\n",
        "\n",
        "train_dataset = tf_dataset(train_x, train_y, batch=batch)\n",
        "valid_dataset = tf_dataset(valid_x, valid_y, batch=batch)\n",
        "\n",
        "model = sm.Unet(BACKBONE, encoder_weights='imagenet',\n",
        "                input_shape=(IMG_HEIGHT, IMG_WIDTH, IMG_CHANNELS),\n",
        "                activation='softmax')\n",
        "\n",
        "model.compile('Adam', loss=sm.losses.categorical_focal_jaccard_loss, metrics=[sm.metrics.iou_score])\n",
        "\n",
        "#Other losses to try: categorical_focal_dice_loss, cce_jaccard_loss, cce_dice_loss, categorical_focal_loss\n",
        "\n",
        "\n",
        "#Fit the model\n",
        "#history = model.fit(my_generator, validation_data=validation_datagen, steps_per_epoch=len(X_train) // 16, validation_steps=len(X_train) // 16, epochs=100)\n",
        "#Train the model.\n",
        "\n",
        "#Add Model Checkpoint\n",
        "\n",
        "\n",
        "#checkpoint_cb = MyModelCheckpoint(\n",
        "#    os.path.join(run_dir, 'model-{epoch:02d}-{val_loss:.2f}.hdf5'),\n",
        "#    monitor='val_loss',verbose=1)\n",
        "\n",
        "\n",
        "#cb = [checkpoint_cb, lr_sched_cb]\n",
        "\n",
        "model.compile('Adam', loss=sm.losses.categorical_focal_jaccard_loss, metrics=[sm.metrics.iou_score])\n",
        "\n",
        "history=model.fit(train_dataset,\n",
        "          validation_data=valid_dataset,\n",
        "          steps_per_epoch = steps_per_epoch,\n",
        "          epochs=epochs,\n",
        "          verbose=1,\n",
        "          validation_steps = val_steps_per_epoch)\n",
        "\n",
        "model.save('/content/Model_Checkpoint')"
      ]
    }
  ]
}